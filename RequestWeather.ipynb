{
 "cells": [
  {
   "cell_type": "code",
   "execution_count": 1,
   "metadata": {},
   "outputs": [
    {
     "name": "stdout",
     "output_type": "stream",
     "text": [
      "404\n"
     ]
    }
   ],
   "source": [
    "# Obtained from the following tutorial:\n",
    "# https://www.dataquest.io/blog/python-api-tutorial/\n",
    "\n",
    "import requests\n",
    "response = requests.get(\"http://api.open-notify.org/this-api-doesnt-exist\")\n",
    "print(response.status_code)"
   ]
  },
  {
   "cell_type": "markdown",
   "metadata": {},
   "source": []
  },
  {
   "cell_type": "code",
   "execution_count": 50,
   "metadata": {},
   "outputs": [
    {
     "name": "stdout",
     "output_type": "stream",
     "text": [
      "200\n"
     ]
    }
   ],
   "source": []
  },
  {
   "cell_type": "code",
   "execution_count": 51,
   "metadata": {},
   "outputs": [
    {
     "name": "stdout",
     "output_type": "stream",
     "text": [
      "b'{\"cod\":\"200\",\"message\":0,\"cnt\":40,\"list\":[{\"dt\":1580774400,\"main\":{\"temp\":299.21,\"feels_like\":297.05,\"temp_min\":299.21,\"temp_max\":299.21,\"pressure\":1013,\"sea_level\":1013,\"grnd_level\":1012,\"humidity\":70,\"temp_kf\":0},\"weather\":[{\"id\":803,\"main\":\"Clouds\",\"description\":\"broken clouds\",\"icon\":\"04n\"}],\"clouds\":{\"all\":63},\"wind\":{\"speed\":8.47,\"deg\":18},\"sys\":{\"pod\":\"n\"},\"dt_txt\":\"2020-02-04 00:00:00\"},{\"dt\":1580785200,\"main\":{\"temp\":298.82,\"feels_like\":296.64,\"temp_min\":298.82,\"temp_max\":298.82,\"pressure\":1013,\"sea_level\":1013,\"grnd_level\":1012,\"humidity\":80,\"temp_kf\":0},\"weather\":[{\"id\":800,\"main\":\"Clear\",\"description\":\"clear sky\",\"icon\":\"01n\"}],\"clouds\":{\"all\":8},\"wind\":{\"speed\":9.79,\"deg\":25},\"sys\":{\"pod\":\"n\"},\"dt_txt\":\"2020-02-04 03:00:00\"},{\"dt\":1580796000,\"main\":{\"temp\":298.52,\"feels_like\":296.57,\"temp_min\":298.52,\"temp_max\":298.52,\"pressure\":1013,\"sea_level\":1013,\"grnd_level\":1013,\"humidity\":75,\"temp_kf\":0},\"weather\":[{\"id\":800,\"main\":\"Clear\",\"description\":\"clear sky\",\"icon\":\"01d\"}],\"clouds\":{\"all\":4},\"wind\":{\"speed\":8.48,\"deg\":28},\"sys\":{\"pod\":\"d\"},\"dt_txt\":\"2020-02-04 06:00:00\"},{\"dt\":1580806800,\"main\":{\"temp\":299.11,\"feels_like\":297.09,\"temp_min\":299.11,\"temp_max\":299.11,\"pressure\":1013,\"sea_level\":1013,\"grnd_level\":1013,\"humidity\":83,\"temp_kf\":0},\"weather\":[{\"id\":800,\"main\":\"Clear\",\"description\":\"clear sky\",\"icon\":\"01d\"}],\"clouds\":{\"all\":0},\"wind\":{\"speed\":10.25,\"deg\":34},\"sys\":{\"pod\":\"d\"},\"dt_txt\":\"2020-02-04 09:00:00\"},{\"dt\":1580817600,\"main\":{\"temp\":299.81,\"feels_like\":297.52,\"temp_min\":299.81,\"temp_max\":299.81,\"pressure\":1011,\"sea_level\":1011,\"grnd_level\":1011,\"humidity\":81,\"temp_kf\":0},\"weather\":[{\"id\":800,\"main\":\"Clear\",\"description\":\"clear sky\",\"icon\":\"01d\"}],\"clouds\":{\"all\":0},\"wind\":{\"speed\":10.86,\"deg\":36},\"sys\":{\"pod\":\"d\"},\"dt_txt\":\"2020-02-04 12:00:00\"},{\"dt\":1580828400,\"main\":{\"temp\":299.81,\"feels_like\":296.47,\"temp_min\":299.81,\"temp_max\":299.81,\"pressure\":1010,\"sea_level\":1010,\"grnd_level\":1009,\"humidity\":84,\"temp_kf\":0},\"weather\":[{\"id\":800,\"main\":\"Clear\",\"description\":\"clear sky\",\"icon\":\"01d\"}],\"clouds\":{\"all\":0},\"wind\":{\"speed\":12.85,\"deg\":37},\"sys\":{\"pod\":\"d\"},\"dt_txt\":\"2020-02-04 15:00:00\"},{\"dt\":1580839200,\"main\":{\"temp\":299.7,\"feels_like\":295.91,\"temp_min\":299.7,\"temp_max\":299.7,\"pressure\":1011,\"sea_level\":1011,\"grnd_level\":1010,\"humidity\":82,\"temp_kf\":0},\"weather\":[{\"id\":800,\"main\":\"Clear\",\"description\":\"clear sky\",\"icon\":\"01n\"}],\"clouds\":{\"all\":0},\"wind\":{\"speed\":13.08,\"deg\":28},\"sys\":{\"pod\":\"n\"},\"dt_txt\":\"2020-02-04 18:00:00\"},{\"dt\":1580850000,\"main\":{\"temp\":299.64,\"feels_like\":295.97,\"temp_min\":299.64,\"temp_max\":299.64,\"pressure\":1011,\"sea_level\":1011,\"grnd_level\":1009,\"humidity\":83,\"temp_kf\":0},\"weather\":[{\"id\":800,\"main\":\"Clear\",\"description\":\"clear sky\",\"icon\":\"01n\"}],\"clouds\":{\"all\":0},\"wind\":{\"speed\":13.02,\"deg\":29},\"sys\":{\"pod\":\"n\"},\"dt_txt\":\"2020-02-04 21:00:00\"},{\"dt\":1580860800,\"main\":{\"temp\":299.15,\"feels_like\":295.81,\"temp_min\":299.15,\"temp_max\":299.15,\"pressure\":1009,\"sea_level\":1009,\"grnd_level\":1008,\"humidity\":85,\"temp_kf\":0},\"weather\":[{\"id\":802,\"main\":\"Clouds\",\"description\":\"scattered clouds\",\"icon\":\"03n\"}],\"clouds\":{\"all\":46},\"wind\":{\"speed\":12.49,\"deg\":25},\"sys\":{\"pod\":\"n\"},\"dt_txt\":\"2020-02-05 00:00:00\"},{\"dt\":1580871600,\"main\":{\"temp\":298.72,\"feels_like\":296.01,\"temp_min\":298.72,\"temp_max\":298.72,\"pressure\":1009,\"sea_level\":1009,\"grnd_level\":1007,\"humidity\":87,\"temp_kf\":0},\"weather\":[{\"id\":804,\"main\":\"Clouds\",\"description\":\"overcast clouds\",\"icon\":\"04n\"}],\"clouds\":{\"all\":100},\"wind\":{\"speed\":11.55,\"deg\":29},\"sys\":{\"pod\":\"n\"},\"dt_txt\":\"2020-02-05 03:00:00\"},{\"dt\":1580882400,\"main\":{\"temp\":298.37,\"feels_like\":297.16,\"temp_min\":298.37,\"temp_max\":298.37,\"pressure\":1009,\"sea_level\":1009,\"grnd_level\":1008,\"humidity\":87,\"temp_kf\":0},\"weather\":[{\"id\":803,\"main\":\"Clouds\",\"description\":\"broken clouds\",\"icon\":\"04d\"}],\"clouds\":{\"all\":77},\"wind\":{\"speed\":9.14,\"deg\":23},\"sys\":{\"pod\":\"d\"},\"dt_txt\":\"2020-02-05 06:00:00\"},{\"dt\":1580893200,\"main\":{\"temp\":298.8,\"feels_like\":298.86,\"temp_min\":298.8,\"temp_max\":298.8,\"pressure\":1008,\"sea_level\":1008,\"grnd_level\":1008,\"humidity\":87,\"temp_kf\":0},\"weather\":[{\"id\":800,\"main\":\"Clear\",\"description\":\"clear sky\",\"icon\":\"01d\"}],\"clouds\":{\"all\":1},\"wind\":{\"speed\":7.66,\"deg\":37},\"sys\":{\"pod\":\"d\"},\"dt_txt\":\"2020-02-05 09:00:00\"},{\"dt\":1580904000,\"main\":{\"temp\":299.34,\"feels_like\":298.84,\"temp_min\":299.34,\"temp_max\":299.34,\"pressure\":1006,\"sea_level\":1006,\"grnd_level\":1006,\"humidity\":86,\"temp_kf\":0},\"weather\":[{\"id\":801,\"main\":\"Clouds\",\"description\":\"few clouds\",\"icon\":\"02d\"}],\"clouds\":{\"all\":15},\"wind\":{\"speed\":8.74,\"deg\":40},\"sys\":{\"pod\":\"d\"},\"dt_txt\":\"2020-02-05 12:00:00\"},{\"dt\":1580914800,\"main\":{\"temp\":299.88,\"feels_like\":299.4,\"temp_min\":299.88,\"temp_max\":299.88,\"pressure\":1007,\"sea_level\":1007,\"grnd_level\":1005,\"humidity\":86,\"temp_kf\":0},\"weather\":[{\"id\":800,\"main\":\"Clear\",\"description\":\"clear sky\",\"icon\":\"01d\"}],\"clouds\":{\"all\":3},\"wind\":{\"speed\":9.15,\"deg\":36},\"sys\":{\"pod\":\"d\"},\"dt_txt\":\"2020-02-05 15:00:00\"},{\"dt\":1580925600,\"main\":{\"temp\":300.32,\"feels_like\":304.12,\"temp_min\":300.32,\"temp_max\":300.32,\"pressure\":1010,\"sea_level\":1010,\"grnd_level\":1007,\"humidity\":87,\"temp_kf\":0},\"weather\":[{\"id\":803,\"main\":\"Clouds\",\"description\":\"broken clouds\",\"icon\":\"04n\"}],\"clouds\":{\"all\":52},\"wind\":{\"speed\":3.58,\"deg\":5},\"sys\":{\"pod\":\"n\"},\"dt_txt\":\"2020-02-05 18:00:00\"},{\"dt\":1580936400,\"main\":{\"temp\":300.38,\"feels_like\":303.48,\"temp_min\":300.38,\"temp_max\":300.38,\"pressure\":1010,\"sea_level\":1010,\"grnd_level\":1009,\"humidity\":76,\"temp_kf\":0},\"weather\":[{\"id\":804,\"main\":\"Clouds\",\"description\":\"overcast clouds\",\"icon\":\"04n\"}],\"clouds\":{\"all\":100},\"wind\":{\"speed\":2.76,\"deg\":1},\"sys\":{\"pod\":\"n\"},\"dt_txt\":\"2020-02-05 21:00:00\"},{\"dt\":1580947200,\"main\":{\"temp\":299.9,\"feels_like\":301.09,\"temp_min\":299.9,\"temp_max\":299.9,\"pressure\":1010,\"sea_level\":1010,\"grnd_level\":1010,\"humidity\":82,\"temp_kf\":0},\"weather\":[{\"id\":804,\"main\":\"Clouds\",\"description\":\"overcast clouds\",\"icon\":\"04n\"}],\"clouds\":{\"all\":100},\"wind\":{\"speed\":6.13,\"deg\":225},\"sys\":{\"pod\":\"n\"},\"dt_txt\":\"2020-02-06 00:00:00\"},{\"dt\":1580958000,\"main\":{\"temp\":299.15,\"feels_like\":299.59,\"temp_min\":299.15,\"temp_max\":299.15,\"pressure\":1010,\"sea_level\":1010,\"grnd_level\":1009,\"humidity\":81,\"temp_kf\":0},\"weather\":[{\"id\":500,\"main\":\"Rain\",\"description\":\"light rain\",\"icon\":\"10n\"}],\"clouds\":{\"all\":74},\"wind\":{\"speed\":6.45,\"deg\":241},\"rain\":{\"3h\":0.13},\"sys\":{\"pod\":\"n\"},\"dt_txt\":\"2020-02-06 03:00:00\"},{\"dt\":1580968800,\"main\":{\"temp\":298.98,\"feels_like\":298.52,\"temp_min\":298.98,\"temp_max\":298.98,\"pressure\":1011,\"sea_level\":1011,\"grnd_level\":1011,\"humidity\":80,\"temp_kf\":0},\"weather\":[{\"id\":803,\"main\":\"Clouds\",\"description\":\"broken clouds\",\"icon\":\"04d\"}],\"clouds\":{\"all\":55},\"wind\":{\"speed\":7.46,\"deg\":231},\"sys\":{\"pod\":\"d\"},\"dt_txt\":\"2020-02-06 06:00:00\"},{\"dt\":1580979600,\"main\":{\"temp\":298.95,\"feels_like\":295.56,\"temp_min\":298.95,\"temp_max\":298.95,\"pressure\":1011,\"sea_level\":1011,\"grnd_level\":1011,\"humidity\":84,\"temp_kf\":0},\"weather\":[{\"id\":800,\"main\":\"Clear\",\"description\":\"clear sky\",\"icon\":\"01d\"}],\"clouds\":{\"all\":7},\"wind\":{\"speed\":12.25,\"deg\":218},\"sys\":{\"pod\":\"d\"},\"dt_txt\":\"2020-02-06 09:00:00\"},{\"dt\":1580990400,\"main\":{\"temp\":298.5,\"feels_like\":294.98,\"temp_min\":298.5,\"temp_max\":298.5,\"pressure\":1011,\"sea_level\":1011,\"grnd_level\":1011,\"humidity\":87,\"temp_kf\":0},\"weather\":[{\"id\":800,\"main\":\"Clear\",\"description\":\"clear sky\",\"icon\":\"01d\"}],\"clouds\":{\"all\":8},\"wind\":{\"speed\":12.54,\"deg\":214},\"sys\":{\"pod\":\"d\"},\"dt_txt\":\"2020-02-06 12:00:00\"},{\"dt\":1581001200,\"main\":{\"temp\":298.13,\"feels_like\":296.05,\"temp_min\":298.13,\"temp_max\":298.13,\"pressure\":1012,\"sea_level\":1012,\"grnd_level\":1013,\"humidity\":84,\"temp_kf\":0},\"weather\":[{\"id\":500,\"main\":\"Rain\",\"description\":\"light rain\",\"icon\":\"10d\"}],\"clouds\":{\"all\":100},\"wind\":{\"speed\":9.75,\"deg\":203},\"rain\":{\"3h\":2.38},\"sys\":{\"pod\":\"d\"},\"dt_txt\":\"2020-02-06 15:00:00\"},{\"dt\":1581012000,\"main\":{\"temp\":298.49,\"feels_like\":297.28,\"temp_min\":298.49,\"temp_max\":298.49,\"pressure\":1015,\"sea_level\":1015,\"grnd_level\":1014,\"humidity\":79,\"temp_kf\":0},\"weather\":[{\"id\":500,\"main\":\"Rain\",\"description\":\"light rain\",\"icon\":\"10n\"}],\"clouds\":{\"all\":100},\"wind\":{\"speed\":8.01,\"deg\":181},\"rain\":{\"3h\":1.5},\"sys\":{\"pod\":\"n\"},\"dt_txt\":\"2020-02-06 18:00:00\"},{\"dt\":1581022800,\"main\":{\"temp\":297.98,\"feels_like\":299.15,\"temp_min\":297.98,\"temp_max\":297.98,\"pressure\":1016,\"sea_level\":1016,\"grnd_level\":1015,\"humidity\":77,\"temp_kf\":0},\"weather\":[{\"id\":500,\"main\":\"Rain\",\"description\":\"light rain\",\"icon\":\"10n\"}],\"clouds\":{\"all\":100},\"wind\":{\"speed\":3.96,\"deg\":146},\"rain\":{\"3h\":0.88},\"sys\":{\"pod\":\"n\"},\"dt_txt\":\"2020-02-06 21:00:00\"},{\"dt\":1581033600,\"main\":{\"temp\":296.88,\"feels_like\":298.27,\"temp_min\":296.88,\"temp_max\":296.88,\"pressure\":1015,\"sea_level\":1015,\"grnd_level\":1014,\"humidity\":86,\"temp_kf\":0},\"weather\":[{\"id\":500,\"main\":\"Rain\",\"description\":\"light rain\",\"icon\":\"10n\"}],\"clouds\":{\"all\":100},\"wind\":{\"speed\":4.17,\"deg\":162},\"rain\":{\"3h\":1.5},\"sys\":{\"pod\":\"n\"},\"dt_txt\":\"2020-02-07 00:00:00\"},{\"dt\":1581044400,\"main\":{\"temp\":297.68,\"feels_like\":299.03,\"temp_min\":297.68,\"temp_max\":297.68,\"pressure\":1015,\"sea_level\":1015,\"grnd_level\":1014,\"humidity\":81,\"temp_kf\":0},\"weather\":[{\"id\":500,\"main\":\"Rain\",\"description\":\"light rain\",\"icon\":\"10n\"}],\"clouds\":{\"all\":100},\"wind\":{\"speed\":4.08,\"deg\":88},\"rain\":{\"3h\":0.81},\"sys\":{\"pod\":\"n\"},\"dt_txt\":\"2020-02-07 03:00:00\"},{\"dt\":1581055200,\"main\":{\"temp\":297.89,\"feels_like\":298.06,\"temp_min\":297.89,\"temp_max\":297.89,\"pressure\":1016,\"sea_level\":1016,\"grnd_level\":1015,\"humidity\":82,\"temp_kf\":0},\"weather\":[{\"id\":500,\"main\":\"Rain\",\"description\":\"light rain\",\"icon\":\"10d\"}],\"clouds\":{\"all\":100},\"wind\":{\"speed\":6.06,\"deg\":123},\"rain\":{\"3h\":1.13},\"sys\":{\"pod\":\"d\"},\"dt_txt\":\"2020-02-07 06:00:00\"},{\"dt\":1581066000,\"main\":{\"temp\":297.82,\"feels_like\":297.33,\"temp_min\":297.82,\"temp_max\":297.82,\"pressure\":1016,\"sea_level\":1016,\"grnd_level\":1016,\"humidity\":81,\"temp_kf\":0},\"weather\":[{\"id\":500,\"main\":\"Rain\",\"description\":\"light rain\",\"icon\":\"10d\"}],\"clouds\":{\"all\":99},\"wind\":{\"speed\":6.81,\"deg\":110},\"rain\":{\"3h\":1},\"sys\":{\"pod\":\"d\"},\"dt_txt\":\"2020-02-07 09:00:00\"},{\"dt\":1581076800,\"main\":{\"temp\":298,\"feels_like\":297.07,\"temp_min\":298,\"temp_max\":298,\"pressure\":1014,\"sea_level\":1014,\"grnd_level\":1014,\"humidity\":82,\"temp_kf\":0},\"weather\":[{\"id\":500,\"main\":\"Rain\",\"description\":\"light rain\",\"icon\":\"10d\"}],\"clouds\":{\"all\":96},\"wind\":{\"speed\":7.71,\"deg\":94},\"rain\":{\"3h\":0.44},\"sys\":{\"pod\":\"d\"},\"dt_txt\":\"2020-02-07 12:00:00\"},{\"dt\":1581087600,\"main\":{\"temp\":298.24,\"feels_like\":298.4,\"temp_min\":298.24,\"temp_max\":298.24,\"pressure\":1014,\"sea_level\":1014,\"grnd_level\":1013,\"humidity\":82,\"temp_kf\":0},\"weather\":[{\"id\":500,\"main\":\"Rain\",\"description\":\"light rain\",\"icon\":\"10d\"}],\"clouds\":{\"all\":90},\"wind\":{\"speed\":6.33,\"deg\":96},\"rain\":{\"3h\":0.25},\"sys\":{\"pod\":\"d\"},\"dt_txt\":\"2020-02-07 15:00:00\"},{\"dt\":1581098400,\"main\":{\"temp\":298.25,\"feels_like\":297.12,\"temp_min\":298.25,\"temp_max\":298.25,\"pressure\":1016,\"sea_level\":1016,\"grnd_level\":1015,\"humidity\":84,\"temp_kf\":0},\"weather\":[{\"id\":500,\"main\":\"Rain\",\"description\":\"light rain\",\"icon\":\"10n\"}],\"clouds\":{\"all\":95},\"wind\":{\"speed\":8.48,\"deg\":114},\"rain\":{\"3h\":0.63},\"sys\":{\"pod\":\"n\"},\"dt_txt\":\"2020-02-07 18:00:00\"},{\"dt\":1581109200,\"main\":{\"temp\":298.47,\"feels_like\":298.34,\"temp_min\":298.47,\"temp_max\":298.47,\"pressure\":1017,\"sea_level\":1017,\"grnd_level\":1016,\"humidity\":81,\"temp_kf\":0},\"weather\":[{\"id\":500,\"main\":\"Rain\",\"description\":\"light rain\",\"icon\":\"10n\"}],\"clouds\":{\"all\":100},\"wind\":{\"speed\":6.77,\"deg\":116},\"rain\":{\"3h\":1.38},\"sys\":{\"pod\":\"n\"},\"dt_txt\":\"2020-02-07 21:00:00\"},{\"dt\":1581120000,\"main\":{\"temp\":298.51,\"feels_like\":300.05,\"temp_min\":298.51,\"temp_max\":298.51,\"pressure\":1016,\"sea_level\":1016,\"grnd_level\":1015,\"humidity\":81,\"temp_kf\":0},\"weather\":[{\"id\":500,\"main\":\"Rain\",\"description\":\"light rain\",\"icon\":\"10n\"}],\"clouds\":{\"all\":100},\"wind\":{\"speed\":4.4,\"deg\":35},\"rain\":{\"3h\":1.31},\"sys\":{\"pod\":\"n\"},\"dt_txt\":\"2020-02-08 00:00:00\"},{\"dt\":1581130800,\"main\":{\"temp\":297.9,\"feels_like\":300.77,\"temp_min\":297.9,\"temp_max\":297.9,\"pressure\":1016,\"sea_level\":1016,\"grnd_level\":1015,\"humidity\":83,\"temp_kf\":0},\"weather\":[{\"id\":501,\"main\":\"Rain\",\"description\":\"moderate rain\",\"icon\":\"10n\"}],\"clouds\":{\"all\":100},\"wind\":{\"speed\":2.36,\"deg\":159},\"rain\":{\"3h\":3.06},\"sys\":{\"pod\":\"n\"},\"dt_txt\":\"2020-02-08 03:00:00\"},{\"dt\":1581141600,\"main\":{\"temp\":298.25,\"feels_like\":299.53,\"temp_min\":298.25,\"temp_max\":298.25,\"pressure\":1016,\"sea_level\":1016,\"grnd_level\":1015,\"humidity\":83,\"temp_kf\":0},\"weather\":[{\"id\":500,\"main\":\"Rain\",\"description\":\"light rain\",\"icon\":\"10d\"}],\"clouds\":{\"all\":100},\"wind\":{\"speed\":4.89,\"deg\":100},\"rain\":{\"3h\":0.75},\"sys\":{\"pod\":\"d\"},\"dt_txt\":\"2020-02-08 06:00:00\"},{\"dt\":1581152400,\"main\":{\"temp\":298.74,\"feels_like\":300.2,\"temp_min\":298.74,\"temp_max\":298.74,\"pressure\":1015,\"sea_level\":1015,\"grnd_level\":1015,\"humidity\":79,\"temp_kf\":0},\"weather\":[{\"id\":500,\"main\":\"Rain\",\"description\":\"light rain\",\"icon\":\"10d\"}],\"clouds\":{\"all\":81},\"wind\":{\"speed\":4.38,\"deg\":84},\"rain\":{\"3h\":0.44},\"sys\":{\"pod\":\"d\"},\"dt_txt\":\"2020-02-08 09:00:00\"},{\"dt\":1581163200,\"main\":{\"temp\":299.15,\"feels_like\":300.2,\"temp_min\":299.15,\"temp_max\":299.15,\"pressure\":1014,\"sea_level\":1014,\"grnd_level\":1013,\"humidity\":80,\"temp_kf\":0},\"weather\":[{\"id\":803,\"main\":\"Clouds\",\"description\":\"broken clouds\",\"icon\":\"04d\"}],\"clouds\":{\"all\":71},\"wind\":{\"speed\":5.43,\"deg\":100},\"sys\":{\"pod\":\"d\"},\"dt_txt\":\"2020-02-08 12:00:00\"},{\"dt\":1581174000,\"main\":{\"temp\":299.02,\"feels_like\":298.88,\"temp_min\":299.02,\"temp_max\":299.02,\"pressure\":1014,\"sea_level\":1014,\"grnd_level\":1013,\"humidity\":81,\"temp_kf\":0},\"weather\":[{\"id\":500,\"main\":\"Rain\",\"description\":\"light rain\",\"icon\":\"10d\"}],\"clouds\":{\"all\":100},\"wind\":{\"speed\":7.19,\"deg\":104},\"rain\":{\"3h\":0.25},\"sys\":{\"pod\":\"d\"},\"dt_txt\":\"2020-02-08 15:00:00\"},{\"dt\":1581184800,\"main\":{\"temp\":298.92,\"feels_like\":300.2,\"temp_min\":298.92,\"temp_max\":298.92,\"pressure\":1015,\"sea_level\":1015,\"grnd_level\":1015,\"humidity\":85,\"temp_kf\":0},\"weather\":[{\"id\":500,\"main\":\"Rain\",\"description\":\"light rain\",\"icon\":\"10n\"}],\"clouds\":{\"all\":100},\"wind\":{\"speed\":5.71,\"deg\":104},\"rain\":{\"3h\":0.69},\"sys\":{\"pod\":\"n\"},\"dt_txt\":\"2020-02-08 18:00:00\"},{\"dt\":1581195600,\"main\":{\"temp\":298.75,\"feels_like\":302.54,\"temp_min\":298.75,\"temp_max\":298.75,\"pressure\":1017,\"sea_level\":1017,\"grnd_level\":1016,\"humidity\":80,\"temp_kf\":0},\"weather\":[{\"id\":500,\"main\":\"Rain\",\"description\":\"light rain\",\"icon\":\"10n\"}],\"clouds\":{\"all\":100},\"wind\":{\"speed\":1.21,\"deg\":125},\"rain\":{\"3h\":2.69},\"sys\":{\"pod\":\"n\"},\"dt_txt\":\"2020-02-08 21:00:00\"}],\"city\":{\"id\":1004666,\"name\":\"Faerie Glen\",\"coord\":{\"lat\":-30.85,\"lon\":30.3333},\"country\":\"ZA\",\"timezone\":7200,\"sunrise\":1580700418,\"sunset\":1580749067}}'\n"
     ]
    }
   ],
   "source": [
    "a=response.content\n",
    "print(a)"
   ]
  },
  {
   "cell_type": "code",
   "execution_count": 67,
   "metadata": {},
   "outputs": [
    {
     "name": "stdout",
     "output_type": "stream",
     "text": [
      "dict_keys(['dt', 'main', 'weather', 'clouds', 'wind', 'sys', 'dt_txt'])\n",
      "The weather is Clear\n",
      "{'all': 4}\n",
      "2020-02-04 06:00:00\n",
      "Verander die joernaal na battery toe, daar sal genoeg sonlig wees\n"
     ]
    }
   ],
   "source": [
    "#import xml.dom.minidom\n",
    "#xml.dom.minidom.parseString(a)\n",
    "#dom.toprettyxml()\n",
    "\n",
    "\n",
    "import json\n",
    "\n",
    "data = json.loads(response.content)\n",
    "dataweer = data['list']\n",
    "print(dataweer[0].keys())\n",
    "print('The weather is ' + dataweer[2]['weather'][0]['main'])\n",
    "print(dataweer[2]['clouds'])\n",
    "print(dataweer[2]['dt_txt'])\n",
    "\n",
    "if dataweer[2]['weather'][0]['main'] == 'Clear':\n",
    "    print('Verander die joernaal na battery toe, daar sal genoeg sonlig wees')\n",
    "\n",
    "#print(data['list'])"
   ]
  },
  {
   "cell_type": "markdown",
   "metadata": {},
   "source": [
    "From the API:\n",
    "https://openweathermap.org/forecast5\n",
    "\n",
    "\n",
    "Parameters:\n",
    "\n",
    "    code Internal parameter\n",
    "    message Internal parameter\n",
    "    city\n",
    "        city.id City ID\n",
    "        city.name City name\n",
    "        city.coord\n",
    "            city.coord.lat City geo location, latitude\n",
    "            city.coord.lon City geo location, longitude\n",
    "        city.country Country code (GB, JP etc.)\n",
    "        city.timezone Shift in seconds from UTC\n",
    "    cnt Number of lines returned by this API call\n",
    "    list\n",
    "        list.dt Time of data forecasted, unix, UTC\n",
    "        list.main\n",
    "            list.main.temp Temperature. Unit Default: Kelvin, Metric: Celsius, Imperial: Fahrenheit.\n",
    "            list.main.feels_like Temperature. This temperature parameter accounts for the human perception of weather. Unit Default: Kelvin, Metric: Celsius, Imperial: Fahrenheit.\n",
    "            list.main.temp_min Minimum temperature at the moment of calculation. This is deviation from 'temp' that is possible for large cities and megalopolises geographically expanded (use these parameter optionally). Unit Default: Kelvin, Metric: Celsius, Imperial: Fahrenheit.\n",
    "            list.main.temp_max Maximum temperature at the moment of calculation. This is deviation from 'temp' that is possible for large cities and megalopolises geographically expanded (use these parameter optionally). Unit Default: Kelvin, Metric: Celsius, Imperial: Fahrenheit.\n",
    "            list.main.pressure Atmospheric pressure on the sea level by default, hPa\n",
    "            list.main.sea_level Atmospheric pressure on the sea level, hPa\n",
    "            list.main.grnd_level Atmospheric pressure on the ground level, hPa\n",
    "            list.main.humidity Humidity, %\n",
    "            list.main.temp_kf Internal parameter\n",
    "        list.weather (more info Weather condition codes)\n",
    "            list.weather.id Weather condition id\n",
    "            list.weather.main Group of weather parameters (Rain, Snow, Extreme etc.)\n",
    "            list.weather.description Weather condition within the group\n",
    "            list.weather.icon Weather icon id\n",
    "        list.clouds\n",
    "            list.clouds.all Cloudiness, %\n",
    "        list.wind\n",
    "            list.wind.speed Wind speed. Unit Default: meter/sec, Metric: meter/sec, Imperial: miles/hour.\n",
    "            list.wind.deg Wind direction, degrees (meteorological)\n",
    "        list.rain\n",
    "            list.rain.3h Rain volume for last 3 hours, mm\n",
    "        list.snow\n",
    "            list.snow.3h Snow volume for last 3 hours\n",
    "        list.dt_txt Time of data forecasted, ISO, UTC\n"
   ]
  }
 ],
 "metadata": {
  "hide_input": false,
  "kernelspec": {
   "display_name": "Python 3",
   "language": "python",
   "name": "python3"
  },
  "language_info": {
   "codemirror_mode": {
    "name": "ipython",
    "version": 3
   },
   "file_extension": ".py",
   "mimetype": "text/x-python",
   "name": "python",
   "nbconvert_exporter": "python",
   "pygments_lexer": "ipython3",
   "version": "3.9.5"
  },
  "toc": {
   "base_numbering": 1,
   "nav_menu": {},
   "number_sections": true,
   "sideBar": true,
   "skip_h1_title": false,
   "title_cell": "Table of Contents",
   "title_sidebar": "Contents",
   "toc_cell": false,
   "toc_position": {},
   "toc_section_display": true,
   "toc_window_display": false
  },
  "varInspector": {
   "cols": {
    "lenName": 16,
    "lenType": 16,
    "lenVar": 40
   },
   "kernels_config": {
    "python": {
     "delete_cmd_postfix": "",
     "delete_cmd_prefix": "del ",
     "library": "var_list.py",
     "varRefreshCmd": "print(var_dic_list())"
    },
    "r": {
     "delete_cmd_postfix": ") ",
     "delete_cmd_prefix": "rm(",
     "library": "var_list.r",
     "varRefreshCmd": "cat(var_dic_list()) "
    }
   },
   "types_to_exclude": [
    "module",
    "function",
    "builtin_function_or_method",
    "instance",
    "_Feature"
   ],
   "window_display": false
  }
 },
 "nbformat": 4,
 "nbformat_minor": 2
}
